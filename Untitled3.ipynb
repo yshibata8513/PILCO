{
  "nbformat": 4,
  "nbformat_minor": 0,
  "metadata": {
    "colab": {
      "name": "Untitled3.ipynb",
      "provenance": [],
      "authorship_tag": "ABX9TyPONO3m2cf9xj1fMgInf9DF",
      "include_colab_link": true
    },
    "kernelspec": {
      "name": "python3",
      "display_name": "Python 3"
    }
  },
  "cells": [
    {
      "cell_type": "markdown",
      "metadata": {
        "id": "view-in-github",
        "colab_type": "text"
      },
      "source": [
        "<a href=\"https://colab.research.google.com/github/yshibata8513/PILCO/blob/master/Untitled3.ipynb\" target=\"_parent\"><img src=\"https://colab.research.google.com/assets/colab-badge.svg\" alt=\"Open In Colab\"/></a>"
      ]
    },
    {
      "cell_type": "code",
      "metadata": {
        "id": "Z_BjrsGFQsl6",
        "colab_type": "code",
        "colab": {}
      },
      "source": [
        "import torch\n",
        "import torch.nn as nn\n",
        "import numpy as np"
      ],
      "execution_count": 0,
      "outputs": []
    },
    {
      "cell_type": "code",
      "metadata": {
        "id": "18vDGPgBQwxD",
        "colab_type": "code",
        "colab": {}
      },
      "source": [
        "sigma = torch.FloatTensor([0.6])\n",
        "def GaussianKernel(x,y):\n",
        "  x_ = x.unsqueeze(1)\n",
        "  y_ = y.unsqueeze(0)\n",
        "  dist = (x_ - y_).pow(2).sum(dim=-1)\n",
        "  return torch.exp(-dist/sigma.pow(2)) "
      ],
      "execution_count": 0,
      "outputs": []
    },
    {
      "cell_type": "code",
      "metadata": {
        "id": "uFRwaF6mSfKS",
        "colab_type": "code",
        "colab": {
          "base_uri": "https://localhost:8080/",
          "height": 68
        },
        "outputId": "c0cfbc53-550c-49c0-d3bf-059e1c00d9da"
      },
      "source": [
        "data_size_1 = 3\n",
        "data_size_2 = 4\n",
        "dim_data = 5\n",
        "x = torch.rand(data_size_1,dim_data)\n",
        "y = torch.rand(data_size_2,dim_data)\n",
        "GaussianKernel(x,y)"
      ],
      "execution_count": 13,
      "outputs": [
        {
          "output_type": "execute_result",
          "data": {
            "text/plain": [
              "tensor([[0.0869, 0.0050, 0.0387, 0.0678],\n",
              "        [0.1032, 0.2261, 0.2152, 0.1843],\n",
              "        [0.1687, 0.0614, 0.0814, 0.0957]])"
            ]
          },
          "metadata": {
            "tags": []
          },
          "execution_count": 13
        }
      ]
    },
    {
      "cell_type": "code",
      "metadata": {
        "id": "1UOwf3eOTHS0",
        "colab_type": "code",
        "colab": {}
      },
      "source": [
        "class GaussianProcess(nn.Module):\n",
        "  \n",
        "  def __init__(self,dim_input,dim_output):\n",
        "    self.dim_input = dim_input\n",
        "    self.dim_output = dim_output\n",
        "    \n",
        "\n",
        "  @staticmethod\n",
        "  def GaussianKernel(x,y):\n",
        "    x_ = x.unsqueeze(1)\n",
        "    y_ = y.unsqueeze(0)\n",
        "    dist = (x_ - y_).pow(2).sum(dim=-1)\n",
        "    return torch.exp(-dist/sigma.pow(2)) \n",
        "\n",
        "  "
      ],
      "execution_count": 0,
      "outputs": []
    },
    {
      "cell_type": "code",
      "metadata": {
        "id": "krxtbDXrToVR",
        "colab_type": "code",
        "colab": {
          "base_uri": "https://localhost:8080/",
          "height": 168
        },
        "outputId": "ef4a7232-afdc-4e29-f13c-fdcac7d1261a"
      },
      "source": [
        "class TransferLearning:\n",
        "  def __init__(self):\n",
        "    self.dim_state = dim_state\n",
        "    self.dim_action = dim_action\n",
        "    self.GaussianProcessNominal = GaussianProcess(dim_input=dim_state+dim_action,dim_output=dim_state)\n",
        "    self.GaussianProcessReal = GaussianProcess(dim_input=dim_state+dim_action,dim_output=dim_state)\n",
        "    self.NominalSampler = nominal_sampler\n",
        "    self.RealSampler = real_sampler\n",
        "\n",
        "  def forward()"
      ],
      "execution_count": 15,
      "outputs": [
        {
          "output_type": "error",
          "ename": "NameError",
          "evalue": "ignored",
          "traceback": [
            "\u001b[0;31m---------------------------------------------------------------------------\u001b[0m",
            "\u001b[0;31mNameError\u001b[0m                                 Traceback (most recent call last)",
            "\u001b[0;32m<ipython-input-15-bc6386d60349>\u001b[0m in \u001b[0;36m<module>\u001b[0;34m()\u001b[0m\n\u001b[0;32m----> 1\u001b[0;31m \u001b[0mnvidia\u001b[0m\u001b[0;34m-\u001b[0m\u001b[0msmi\u001b[0m\u001b[0;34m\u001b[0m\u001b[0;34m\u001b[0m\u001b[0m\n\u001b[0m",
            "\u001b[0;31mNameError\u001b[0m: name 'nvidia' is not defined"
          ]
        }
      ]
    }
  ]
}